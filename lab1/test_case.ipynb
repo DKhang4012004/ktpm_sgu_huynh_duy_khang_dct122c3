{
 "cells": [
  {
   "cell_type": "code",
   "execution_count": 16,
   "id": "63b2b9af",
   "metadata": {},
   "outputs": [
    {
     "name": "stdout",
     "output_type": "stream",
     "text": [
      "Microsoft Windows [Version 10.0.19045.6216]\n",
      "(c) Microsoft Corporation. All rights reserved.\n",
      "\n",
      "(base) c:\\Users\\admin\\Desktop\\lab1>g++ exercise_a.cpp -o exercise_a.exe\n"
     ]
    },
    {
     "name": "stdout",
     "output_type": "stream",
     "text": [
      "\n",
      "(base) c:\\Users\\admin\\Desktop\\lab1>g++ exercise_b.cpp -o exercise_b.exe\n",
      "\n",
      "(base) c:\\Users\\admin\\Desktop\\lab1>g++ exercise_c.cpp -o exercise_c.exe\n",
      "\n",
      "(base) c:\\Users\\admin\\Desktop\\lab1>g++ exercise_d.cpp -o exercise_d.exe\n",
      "\n",
      "(base) c:\\Users\\admin\\Desktop\\lab1>g++ exercise_e.cpp -o exercise_e.exe\n",
      "\n",
      "(base) c:\\Users\\admin\\Desktop\\lab1>g++ practice1.cpp -o practice1.exe\n",
      "\n",
      "(base) c:\\Users\\admin\\Desktop\\lab1>"
     ]
    }
   ],
   "source": [
    "%%cmd\n",
    "g++ exercise_a.cpp -o exercise_a.exe\n",
    "g++ exercise_b.cpp -o exercise_b.exe\n",
    "g++ exercise_c.cpp -o exercise_c.exe\n",
    "g++ exercise_d.cpp -o exercise_d.exe\n",
    "g++ exercise_e.cpp -o exercise_e.exe\n",
    "g++ practice1.cpp -o practice1.exe"
   ]
  },
  {
   "cell_type": "markdown",
   "id": "17cf586e",
   "metadata": {},
   "source": [
    "a) How many test-cases we need for the following function f1. What are they?"
   ]
  },
  {
   "cell_type": "code",
   "execution_count": null,
   "id": "1eda404b",
   "metadata": {},
   "outputs": [
    {
     "name": "stdout",
     "output_type": "stream",
     "text": [
      "input = 11 output = 22\n",
      "input = 1 output = -1\n"
     ]
    }
   ],
   "source": [
    "import subprocess\n",
    "\n",
    "tests = [11, 1]\n",
    "\n",
    "for x in tests:\n",
    "    result = subprocess.run([\"exercise_a.exe\", str(x)], capture_output=True, text=True)\n",
    "    print(f\"input = {x} output = {result.stdout.strip()}\")\n"
   ]
  },
  {
   "cell_type": "markdown",
   "id": "a491f301",
   "metadata": {},
   "source": [
    "b) Check if your test-cases can detect error if f1 is implemented as follows, In this case, how many test-cases we need to test this function? What are they?"
   ]
  },
  {
   "cell_type": "code",
   "execution_count": null,
   "id": "59b346c0",
   "metadata": {},
   "outputs": [
    {
     "name": "stdout",
     "output_type": "stream",
     "text": [
      "input = 11 output = 22\n",
      "input = 9 output = -9\n",
      "input = -11 output = -22\n"
     ]
    }
   ],
   "source": [
    "import subprocess\n",
    "\n",
    "tests = [11, 9,-11]\n",
    "\n",
    "for x in tests:\n",
    "    result = subprocess.run([\"exercise_b.exe\", str(x)], capture_output=True, text=True)\n",
    "    print(f\"input = {x} output = {result.stdout.strip()}\")\n"
   ]
  },
  {
   "cell_type": "markdown",
   "id": "b2cb3ac0",
   "metadata": {},
   "source": [
    "c) How many test-cases we need to test this function? What are they?"
   ]
  },
  {
   "cell_type": "code",
   "execution_count": null,
   "id": "cbc6a9f1",
   "metadata": {},
   "outputs": [
    {
     "name": "stdout",
     "output_type": "stream",
     "text": [
      "input = 4 output = 8\n"
     ]
    }
   ],
   "source": [
    "import subprocess\n",
    "\n",
    "tests = [4]\n",
    "\n",
    "for x in tests:\n",
    "    result = subprocess.run([\"exercise_c.exe\", str(x)], capture_output=True, text=True)\n",
    "    print(f\"input = {x} output = {result.stdout.strip()}\")\n"
   ]
  },
  {
   "cell_type": "markdown",
   "id": "d580b148",
   "metadata": {},
   "source": [
    "d) How many test-cases we need to test this function? What are they?"
   ]
  },
  {
   "cell_type": "code",
   "execution_count": null,
   "id": "abdb2912",
   "metadata": {},
   "outputs": [
    {
     "name": "stdout",
     "output_type": "stream",
     "text": [
      "input = 1 output = 2\n"
     ]
    }
   ],
   "source": [
    "import subprocess\n",
    "\n",
    "tests = [1]\n",
    "\n",
    "for x in tests:\n",
    "    result = subprocess.run([\"exercise_d.exe\", str(x)], capture_output=True, text=True)\n",
    "    print(f\"input = {x} output = {result.stdout.strip()}\")\n"
   ]
  },
  {
   "cell_type": "markdown",
   "id": "2cb66019",
   "metadata": {},
   "source": [
    "e) Check if your test-cases can detect error if findMax is implemented as follows, In this case, how many test-cases we need to test this function? What are they?"
   ]
  },
  {
   "cell_type": "code",
   "execution_count": null,
   "id": "ccf7bebe",
   "metadata": {},
   "outputs": [
    {
     "name": "stdout",
     "output_type": "stream",
     "text": [
      "input = (3, 2, 1) output = 3\n",
      "input = (2, 3, 1) output = 3\n",
      "input = (1, 2, 3) output = 3\n",
      "input = (3, 3, 1) output = 0\n"
     ]
    }
   ],
   "source": [
    "import subprocess\n",
    "\n",
    "tests = [\n",
    "    (3, 2, 1),\n",
    "    (2, 3, 1),\n",
    "    (1, 2, 3),\n",
    "    (3, 3, 1)\n",
    "]\n",
    "\n",
    "for x in tests:\n",
    "    result = subprocess.run([\"exercise_e.exe\", str(x[0]), str(x[1]), str(x[2])], \n",
    "                            capture_output=True, text=True)\n",
    "    print(f\"input = {x} output = {result.stdout.strip()}\")\n"
   ]
  },
  {
   "cell_type": "markdown",
   "id": "d11a538b",
   "metadata": {},
   "source": [
    "PRATICE 1"
   ]
  },
  {
   "cell_type": "code",
   "execution_count": null,
   "id": "71cb785e",
   "metadata": {},
   "outputs": [
    {
     "name": "stdout",
     "output_type": "stream",
     "text": [
      "Test 1( 0,0,0) (Infinite solutions.): PASS  (solutions = -1) \n",
      "Test 2( 0,0,5) (No solution.): PASS  (solutions = 0) \n",
      "Test 3( 0,1,-4) ( The equation has 2 real solution): PASS  (solutions = 2) 2 -2 \n",
      "Test 4( 1,0,1) (No solution.): PASS  (solutions = 0) \n",
      "Test 5( 1,0,-1) (The equation has 2 real solution): PASS  (solutions = 2) 1 -1 \n",
      "Test 6( 1,2,1) (No solution.): PASS  (solutions = 0) \n",
      "Test 7( 1,-2,1) (The equation has 2 real solution): PASS  (solutions = 2) 1 -1 \n",
      "Test 8( 1,-3,2) (The equation has 4 real solution): PASS  (solutions = 4) 1.41421 -1.41421 1 -1 \n",
      "\n",
      "Summary: 8/8 test cases passed.\n"
     ]
    }
   ],
   "source": [
    "!practice1.exe"
   ]
  }
 ],
 "metadata": {
  "kernelspec": {
   "display_name": "base",
   "language": "python",
   "name": "python3"
  },
  "language_info": {
   "codemirror_mode": {
    "name": "ipython",
    "version": 3
   },
   "file_extension": ".py",
   "mimetype": "text/x-python",
   "name": "python",
   "nbconvert_exporter": "python",
   "pygments_lexer": "ipython3",
   "version": "3.13.5"
  }
 },
 "nbformat": 4,
 "nbformat_minor": 5
}
